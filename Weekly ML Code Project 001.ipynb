{
 "cells": [
  {
   "cell_type": "code",
   "execution_count": 5,
   "metadata": {},
   "outputs": [
    {
     "name": "stdout",
     "output_type": "stream",
     "text": [
      "(11640, 6)\n",
      "       Country  year  cell_phones_total  population  geo  \\\n",
      "0  Afghanistan  1960            0.00000     9000000  AFG   \n",
      "1  Afghanistan  1961            0.00000     9170000  AFG   \n",
      "2  Afghanistan  1962            0.00000     9350000  AFG   \n",
      "3  Afghanistan  1963            0.00000     9540000  AFG   \n",
      "4  Afghanistan  1964            0.00000     9740000  AFG   \n",
      "\n",
      "   cell_phone_per_person  \n",
      "0                0.00000  \n",
      "1                0.00000  \n",
      "2                0.00000  \n",
      "3                0.00000  \n",
      "4                0.00000  \n"
     ]
    }
   ],
   "source": [
    "import pandas as pd\n",
    "import os\n",
    "\n",
    "cellPhonesDf = pd.read_csv(\"cell_phones.csv\")\n",
    "populationDf = pd.read_csv(\"population1.csv\")\n",
    "geoCountryDf = pd.read_csv(\"ddf--entities--geo--country.csv\")\n",
    "\n",
    "pd.set_option(\"display.float_format\", lambda x: \"%.5f\" % x)\n",
    "\n",
    "combinedDf = pd.merge(left=cellPhonesDf, right=populationDf, how=\"inner\")\n",
    "geoCountryDf = geoCountryDf.rename(columns={\"country\": \"geo\",  \"name\": \"Country\"})\n",
    "combinedDf = combinedDf.merge(geoCountryDf[[\"Country\", \"geo\"]])\n",
    "\n",
    "combinedDf[\"cell_phone_per_person\"] = combinedDf[\"cell_phones_total\"] / combinedDf[\"population\"]\n",
    "combinedDf[\"geo\"] = combinedDf[\"geo\"].str.upper()\n",
    "\n",
    "print(combinedDf.shape)\n",
    "print(combinedDf.head())\n"
   ]
  },
  {
   "cell_type": "code",
   "execution_count": 18,
   "metadata": {},
   "outputs": [
    {
     "name": "stdout",
     "output_type": "stream",
     "text": [
      "             Country  year  cell_phones_total  population  geo  \\\n",
      "11157  United States  2017    400000000.00000   325000000  USA   \n",
      "\n",
      "       cell_phone_per_person  \n",
      "11157                1.23077  \n"
     ]
    }
   ],
   "source": [
    "print(combinedDf[(combinedDf[\"Country\"] == \"United States\") & (combinedDf[\"year\"] == 2017)]) "
   ]
  },
  {
   "cell_type": "code",
   "execution_count": 19,
   "metadata": {},
   "outputs": [
    {
     "name": "stdout",
     "output_type": "stream",
     "text": [
      "0        1960\n",
      "1        1961\n",
      "2        1962\n",
      "3        1963\n",
      "4        1964\n",
      "5        1965\n",
      "6        1966\n",
      "7        1967\n",
      "8        1968\n",
      "9        1969\n",
      "10       1970\n",
      "11       1971\n",
      "12       1972\n",
      "13       1973\n",
      "14       1974\n",
      "15       1975\n",
      "16       1976\n",
      "17       1977\n",
      "18       1978\n",
      "19       1979\n",
      "20       1980\n",
      "21       1981\n",
      "22       1982\n",
      "23       1983\n",
      "24       1984\n",
      "25       1985\n",
      "26       1986\n",
      "27       1987\n",
      "28       1988\n",
      "29       1989\n",
      "         ... \n",
      "11610    1990\n",
      "11611    1991\n",
      "11612    1992\n",
      "11613    1993\n",
      "11614    1994\n",
      "11615    1995\n",
      "11616    1996\n",
      "11617    1997\n",
      "11618    1998\n",
      "11619    1999\n",
      "11620    2000\n",
      "11621    2001\n",
      "11622    2002\n",
      "11623    2003\n",
      "11624    2004\n",
      "11625    2005\n",
      "11626    2006\n",
      "11627    2007\n",
      "11628    2008\n",
      "11629    2009\n",
      "11630    2010\n",
      "11631    2011\n",
      "11632    2012\n",
      "11633    2013\n",
      "11634    2014\n",
      "11635    2015\n",
      "11636    2016\n",
      "11637    2017\n",
      "11638    2018\n",
      "11639    2019\n",
      "Name: year, Length: 11640, dtype: int64\n"
     ]
    }
   ],
   "source": [
    "print(combinedDf[\"year\"]) # 1960 - 2019"
   ]
  },
  {
   "cell_type": "code",
   "execution_count": 20,
   "metadata": {},
   "outputs": [
    {
     "name": "stdout",
     "output_type": "stream",
     "text": [
      "194\n"
     ]
    }
   ],
   "source": [
    "print(len(combinedDf[\"Country\"].unique())) # 194"
   ]
  },
  {
   "cell_type": "code",
   "execution_count": 21,
   "metadata": {},
   "outputs": [
    {
     "name": "stdout",
     "output_type": "stream",
     "text": [
      "             Country  year  cell_phones_total  population  geo  \\\n",
      "2159           China  2019   1730000000.00000  1430000000  CHN   \n",
      "4618           India  2018   1180000000.00000  1350000000  IND   \n",
      "4677       Indonesia  2017    435000000.00000   265000000  IDN   \n",
      "11158  United States  2018    422000000.00000   327000000  USA   \n",
      "1434          Brazil  2014    281000000.00000   203000000  BRA   \n",
      "\n",
      "       cell_phone_per_person  \n",
      "2159                 1.20979  \n",
      "4618                 0.87407  \n",
      "4677                 1.64151  \n",
      "11158                1.29052  \n",
      "1434                 1.38424  \n"
     ]
    }
   ],
   "source": [
    "print(combinedDf.sort_values(\"cell_phones_total\", ascending=False).drop_duplicates(\"Country\").head()) "
   ]
  },
  {
   "cell_type": "code",
   "execution_count": null,
   "metadata": {},
   "outputs": [],
   "source": []
  }
 ],
 "metadata": {
  "kernelspec": {
   "display_name": "Python 3",
   "language": "python",
   "name": "python3"
  },
  "language_info": {
   "codemirror_mode": {
    "name": "ipython",
    "version": 3
   },
   "file_extension": ".py",
   "mimetype": "text/x-python",
   "name": "python",
   "nbconvert_exporter": "python",
   "pygments_lexer": "ipython3",
   "version": "3.7.3"
  }
 },
 "nbformat": 4,
 "nbformat_minor": 2
}
